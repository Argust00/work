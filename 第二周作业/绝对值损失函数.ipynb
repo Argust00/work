{
 "cells": [
  {
   "cell_type": "code",
   "execution_count": 1,
   "metadata": {},
   "outputs": [],
   "source": [
    "from sklearn.datasets import load_boston"
   ]
  },
  {
   "cell_type": "code",
   "execution_count": 2,
   "metadata": {},
   "outputs": [],
   "source": [
    "data=load_boston()"
   ]
  },
  {
   "cell_type": "code",
   "execution_count": 3,
   "metadata": {},
   "outputs": [],
   "source": [
    "X,y=data['data'],data['target']"
   ]
  },
  {
   "cell_type": "code",
   "execution_count": 4,
   "metadata": {},
   "outputs": [
    {
     "data": {
      "text/plain": [
       "(506, 13)"
      ]
     },
     "execution_count": 4,
     "metadata": {},
     "output_type": "execute_result"
    }
   ],
   "source": [
    "import numpy as np\n",
    "np.shape(X)"
   ]
  },
  {
   "cell_type": "code",
   "execution_count": 5,
   "metadata": {},
   "outputs": [
    {
     "data": {
      "text/plain": [
       "21.6"
      ]
     },
     "execution_count": 5,
     "metadata": {},
     "output_type": "execute_result"
    }
   ],
   "source": [
    "y[1]"
   ]
  },
  {
   "cell_type": "code",
   "execution_count": 6,
   "metadata": {},
   "outputs": [
    {
     "data": {
      "text/plain": [
       "506"
      ]
     },
     "execution_count": 6,
     "metadata": {},
     "output_type": "execute_result"
    }
   ],
   "source": [
    "len(X[:,0])"
   ]
  },
  {
   "cell_type": "code",
   "execution_count": 7,
   "metadata": {},
   "outputs": [],
   "source": [
    "import matplotlib.pyplot as plt\n",
    "%matplotlib inline"
   ]
  },
  {
   "cell_type": "code",
   "execution_count": 44,
   "metadata": {},
   "outputs": [],
   "source": [
    "def draw_rm_and_price():\n",
    "    plt.scatter(X[:,5],y)"
   ]
  },
  {
   "cell_type": "code",
   "execution_count": 45,
   "metadata": {},
   "outputs": [
    {
     "data": {
      "image/png": "[encoded data removed]",
      "text/plain": [
       "<Figure size 432x288 with 1 Axes>"
      ]
     },
     "metadata": {
      "needs_background": "light"
     },
     "output_type": "display_data"
    }
   ],
   "source": [
    "draw_rm_and_price()"
   ]
  },
  {
   "cell_type": "code",
   "execution_count": 12,
   "metadata": {},
   "outputs": [],
   "source": [
    "import random"
   ]
  },
  {
   "cell_type": "code",
   "execution_count": 13,
   "metadata": {},
   "outputs": [],
   "source": [
    "def price(rm,k,b):\n",
    "    return k*rm+b"
   ]
  },
  {
   "cell_type": "code",
   "execution_count": 46,
   "metadata": {},
   "outputs": [
    {
     "data": {
      "text/plain": [
       "array([6.575, 6.421, 7.185, 6.998, 7.147, 6.43 , 6.012, 6.172, 5.631,\n",
       "       6.004, 6.377, 6.009, 5.889, 5.949, 6.096, 5.834, 5.935, 5.99 ,\n",
       "       5.456, 5.727, 5.57 , 5.965, 6.142, 5.813, 5.924, 5.599, 5.813,\n",
       "       6.047, 6.495, 6.674, 5.713, 6.072, 5.95 , 5.701, 6.096, 5.933,\n",
       "       5.841, 5.85 , 5.966, 6.595, 7.024, 6.77 , 6.169, 6.211, 6.069,\n",
       "       5.682, 5.786, 6.03 , 5.399, 5.602, 5.963, 6.115, 6.511, 5.998,\n",
       "       5.888, 7.249, 6.383, 6.816, 6.145, 5.927, 5.741, 5.966, 6.456,\n",
       "       6.762, 7.104, 6.29 , 5.787, 5.878, 5.594, 5.885, 6.417, 5.961,\n",
       "       6.065, 6.245, 6.273, 6.286, 6.279, 6.14 , 6.232, 5.874, 6.727,\n",
       "       6.619, 6.302, 6.167, 6.389, 6.63 , 6.015, 6.121, 7.007, 7.079,\n",
       "       6.417, 6.405, 6.442, 6.211, 6.249, 6.625, 6.163, 8.069, 7.82 ,\n",
       "       7.416, 6.727, 6.781, 6.405, 6.137, 6.167, 5.851, 5.836, 6.127,\n",
       "       6.474, 6.229, 6.195, 6.715, 5.913, 6.092, 6.254, 5.928, 6.176,\n",
       "       6.021, 5.872, 5.731, 5.87 , 6.004, 5.961, 5.856, 5.879, 5.986,\n",
       "       5.613, 5.693, 6.431, 5.637, 6.458, 6.326, 6.372, 5.822, 5.757,\n",
       "       6.335, 5.942, 6.454, 5.857, 6.151, 6.174, 5.019, 5.403, 5.468,\n",
       "       4.903, 6.13 , 5.628, 4.926, 5.186, 5.597, 6.122, 5.404, 5.012,\n",
       "       5.709, 6.129, 6.152, 5.272, 6.943, 6.066, 6.51 , 6.25 , 7.489,\n",
       "       7.802, 8.375, 5.854, 6.101, 7.929, 5.877, 6.319, 6.402, 5.875,\n",
       "       5.88 , 5.572, 6.416, 5.859, 6.546, 6.02 , 6.315, 6.86 , 6.98 ,\n",
       "       7.765, 6.144, 7.155, 6.563, 5.604, 6.153, 7.831, 6.782, 6.556,\n",
       "       7.185, 6.951, 6.739, 7.178, 6.8  , 6.604, 7.875, 7.287, 7.107,\n",
       "       7.274, 6.975, 7.135, 6.162, 7.61 , 7.853, 8.034, 5.891, 6.326,\n",
       "       5.783, 6.064, 5.344, 5.96 , 5.404, 5.807, 6.375, 5.412, 6.182,\n",
       "       5.888, 6.642, 5.951, 6.373, 6.951, 6.164, 6.879, 6.618, 8.266,\n",
       "       8.725, 8.04 , 7.163, 7.686, 6.552, 5.981, 7.412, 8.337, 8.247,\n",
       "       6.726, 6.086, 6.631, 7.358, 6.481, 6.606, 6.897, 6.095, 6.358,\n",
       "       6.393, 5.593, 5.605, 6.108, 6.226, 6.433, 6.718, 6.487, 6.438,\n",
       "       6.957, 8.259, 6.108, 5.876, 7.454, 8.704, 7.333, 6.842, 7.203,\n",
       "       7.52 , 8.398, 7.327, 7.206, 5.56 , 7.014, 8.297, 7.47 , 5.92 ,\n",
       "       5.856, 6.24 , 6.538, 7.691, 6.758, 6.854, 7.267, 6.826, 6.482,\n",
       "       6.812, 7.82 , 6.968, 7.645, 7.923, 7.088, 6.453, 6.23 , 6.209,\n",
       "       6.315, 6.565, 6.861, 7.148, 6.63 , 6.127, 6.009, 6.678, 6.549,\n",
       "       5.79 , 6.345, 7.041, 6.871, 6.59 , 6.495, 6.982, 7.236, 6.616,\n",
       "       7.42 , 6.849, 6.635, 5.972, 4.973, 6.122, 6.023, 6.266, 6.567,\n",
       "       5.705, 5.914, 5.782, 6.382, 6.113, 6.426, 6.376, 6.041, 5.708,\n",
       "       6.415, 6.431, 6.312, 6.083, 5.868, 6.333, 6.144, 5.706, 6.031,\n",
       "       6.316, 6.31 , 6.037, 5.869, 5.895, 6.059, 5.985, 5.968, 7.241,\n",
       "       6.54 , 6.696, 6.874, 6.014, 5.898, 6.516, 6.635, 6.939, 6.49 ,\n",
       "       6.579, 5.884, 6.728, 5.663, 5.936, 6.212, 6.395, 6.127, 6.112,\n",
       "       6.398, 6.251, 5.362, 5.803, 8.78 , 3.561, 4.963, 3.863, 4.97 ,\n",
       "       6.683, 7.016, 6.216, 5.875, 4.906, 4.138, 7.313, 6.649, 6.794,\n",
       "       6.38 , 6.223, 6.968, 6.545, 5.536, 5.52 , 4.368, 5.277, 4.652,\n",
       "       5.   , 4.88 , 5.39 , 5.713, 6.051, 5.036, 6.193, 5.887, 6.471,\n",
       "       6.405, 5.747, 5.453, 5.852, 5.987, 6.343, 6.404, 5.349, 5.531,\n",
       "       5.683, 4.138, 5.608, 5.617, 6.852, 5.757, 6.657, 4.628, 5.155,\n",
       "       4.519, 6.434, 6.782, 5.304, 5.957, 6.824, 6.411, 6.006, 5.648,\n",
       "       6.103, 5.565, 5.896, 5.837, 6.202, 6.193, 6.38 , 6.348, 6.833,\n",
       "       6.425, 6.436, 6.208, 6.629, 6.461, 6.152, 5.935, 5.627, 5.818,\n",
       "       6.406, 6.219, 6.485, 5.854, 6.459, 6.341, 6.251, 6.185, 6.417,\n",
       "       6.749, 6.655, 6.297, 7.393, 6.728, 6.525, 5.976, 5.936, 6.301,\n",
       "       6.081, 6.701, 6.376, 6.317, 6.513, 6.209, 5.759, 5.952, 6.003,\n",
       "       5.926, 5.713, 6.167, 6.229, 6.437, 6.98 , 5.427, 6.162, 6.484,\n",
       "       5.304, 6.185, 6.229, 6.242, 6.75 , 7.061, 5.762, 5.871, 6.312,\n",
       "       6.114, 5.905, 5.454, 5.414, 5.093, 5.983, 5.983, 5.707, 5.926,\n",
       "       5.67 , 5.39 , 5.794, 6.019, 5.569, 6.027, 6.593, 6.12 , 6.976,\n",
       "       6.794, 6.03 ])"
      ]
     },
     "execution_count": 46,
     "metadata": {},
     "output_type": "execute_result"
    }
   ],
   "source": [
    "X[:,5]"
   ]
  },
  {
   "cell_type": "code",
   "execution_count": 66,
   "metadata": {},
   "outputs": [
    {
     "data": {
      "text/plain": [
       "<matplotlib.collections.PathCollection at 0x28c40c7eda0>"
      ]
     },
     "execution_count": 66,
     "metadata": {},
     "output_type": "execute_result"
    },
    {
     "data": {
      "image/png": "[encoded data removed]",
      "text/plain": [
       "<Figure size 432x288 with 1 Axes>"
      ]
     },
     "metadata": {
      "needs_background": "light"
     },
     "output_type": "display_data"
    }
   ],
   "source": [
    "X_rm = X[:, 5]\n",
    "k = random.randint(-100, 100)\n",
    "b=random.randint(-100,100)\n",
    "price_by_random_k_and_b = [price(r, k,b) for r in X_rm]\n",
    "\n",
    "draw_rm_and_price()\n",
    "plt.scatter(X_rm, price_by_random_k_and_b)"
   ]
  },
  {
   "cell_type": "code",
   "execution_count": 64,
   "metadata": {},
   "outputs": [],
   "source": [
    "#平方损失\n",
    "def loss(y,y_hat):\n",
    "    return sum(abs(y_i - y_hat_i) for y_i, y_hat_i in zip(list(y), list(y_hat))) / len(list(y))"
   ]
  },
  {
   "cell_type": "code",
   "execution_count": 65,
   "metadata": {},
   "outputs": [
    {
     "name": "stdout",
     "output_type": "stream",
     "text": [
      "When time is : 0, get best_k: -82.07021102954604,get best_b: 90.52652797194068, and the loss is: 447.78754876567194\n",
      "When time is : 3, get best_k: -56.549497621585566,get best_b: 52.98309712532844, and the loss is: 324.94262653886625\n",
      "When time is : 4, get best_k: -52.711537346844395,get best_b: 46.25150591645689, and the loss is: 307.55404062780957\n",
      "When time is : 7, get best_k: -19.864302196536144,get best_b: 1.5002891154571643, and the loss is: 145.87239387375203\n",
      "When time is : 14, get best_k: 28.837702499061066,get best_b: -31.10593080957949, and the loss is: 127.59567964412938\n",
      "When time is : 15, get best_k: 14.585362871103143,get best_b: 54.8232662805338, and the loss is: 123.95413300816183\n",
      "When time is : 18, get best_k: 8.23865150069976,get best_b: -14.821806445321187, and the loss is: 14.79440579354329\n",
      "When time is : 92, get best_k: 4.3778338303204265,get best_b: 0.6712953932096895, and the loss is: 7.8308998630583995\n",
      "When time is : 343, get best_k: 15.327073966546223,get best_b: -77.08366425592257, and the loss is: 6.195798523078926\n",
      "When time is : 544, get best_k: 3.362245780221812,get best_b: 2.7253679990885615, and the loss is: 5.830353409618949\n",
      "When time is : 2063, get best_k: 10.438317883362203,get best_b: -46.163657546143554, and the loss is: 5.499657396096287\n",
      "When time is : 4616, get best_k: 13.39263251250722,get best_b: -58.549716331085364, and the loss is: 5.488002580348575\n",
      "When time is : 5138, get best_k: 12.048676087708415,get best_b: -52.637122736439565, and the loss is: 4.59931963050797\n",
      "When time is : 8476, get best_k: 9.826270740853161,get best_b: -38.604879473949, and the loss is: 4.454964454014726\n"
     ]
    }
   ],
   "source": [
    "trying_times = 20000\n",
    "\n",
    "min_loss = float('inf')\n",
    "best_k, best_b = None, None\n",
    "\n",
    "for i in range(trying_times):\n",
    "    k = random.random() * 200 - 100\n",
    "    b = random.random() *200 - 100\n",
    "    price_by_random_k_and_b = [price(r, k,b) for r in X_rm]\n",
    "\n",
    "    current_loss = loss(y, price_by_random_k_and_b)\n",
    "    \n",
    "    if current_loss < min_loss:\n",
    "        min_loss = current_loss\n",
    "        best_k, best_b = k, b\n",
    "        print('When time is : {}, get best_k: {},get best_b: {}, and the loss is: {}'.format(i, best_k,best_b,min_loss))"
   ]
  },
  {
   "cell_type": "code",
   "execution_count": 63,
   "metadata": {},
   "outputs": [
    {
     "data": {
      "text/plain": [
       "<matplotlib.collections.PathCollection at 0x28c40b56518>"
      ]
     },
     "execution_count": 63,
     "metadata": {},
     "output_type": "execute_result"
    },
    {
     "data": {
      "image/png": "[encoded data removed]",
      "text/plain": [
       "<Figure size 432x288 with 1 Axes>"
      ]
     },
     "metadata": {
      "needs_background": "light"
     },
     "output_type": "display_data"
    }
   ],
   "source": [
    "X_rm = X[:,5]\n",
    "k = 9.874920335022225\n",
    "b = -39.2336252243014\n",
    "price_by_random_k_and_b = [price(r, k, b) for r in X_rm]\n",
    "\n",
    "draw_rm_and_price()\n",
    "plt.scatter(X_rm, price_by_random_k_and_b)"
   ]
  },
  {
   "cell_type": "markdown",
   "metadata": {},
   "source": [
    " 第二种：方向转移\n"
   ]
  },
  {
   "cell_type": "code",
   "execution_count": 75,
   "metadata": {},
   "outputs": [
    {
     "name": "stdout",
     "output_type": "stream",
     "text": [
      "When time is : 11, get best_k: -80.6943208868441,get best_b:-45.38486740825455, and the loss is: 575.0519776418245\n",
      "When time is : 21, get best_k: -79.69432088684415,get best_b:-46.384867408254564, and the loss is: 569.767343254472\n",
      "When time is : 31, get best_k: -78.69432088684421,get best_b:-47.38486740825458, and the loss is: 564.482708867122\n",
      "When time is : 41, get best_k: -77.69432088684427,get best_b:-48.38486740825459, and the loss is: 559.1980744797708\n",
      "When time is : 51, get best_k: -76.69432088684432,get best_b:-49.38486740825461, and the loss is: 553.913440092419\n",
      "When time is : 61, get best_k: -75.69432088684438,get best_b:-50.38486740825462, and the loss is: 548.6288057050675\n",
      "When time is : 71, get best_k: -74.69432088684444,get best_b:-51.384867408254635, and the loss is: 543.3441713177159\n",
      "When time is : 81, get best_k: -73.6943208868445,get best_b:-52.38486740825465, and the loss is: 538.0595369303649\n",
      "When time is : 91, get best_k: -72.69432088684455,get best_b:-53.384867408254664, and the loss is: 532.7749025430134\n",
      "When time is : 101, get best_k: -71.69432088684461,get best_b:-54.38486740825468, and the loss is: 527.490268155662\n",
      "When time is : 111, get best_k: -70.69432088684466,get best_b:-55.38486740825469, and the loss is: 522.2056337683103\n",
      "When time is : 121, get best_k: -69.69432088684472,get best_b:-56.384867408254706, and the loss is: 516.9209993809587\n",
      "When time is : 131, get best_k: -68.69432088684478,get best_b:-57.38486740825472, and the loss is: 511.63636499360723\n",
      "When time is : 141, get best_k: -67.69432088684484,get best_b:-58.384867408254735, and the loss is: 506.351730606257\n",
      "When time is : 151, get best_k: -66.69432088684489,get best_b:-59.38486740825475, and the loss is: 501.06709621890445\n",
      "When time is : 161, get best_k: -65.69432088684495,get best_b:-60.38486740825476, and the loss is: 495.7824618315535\n",
      "When time is : 171, get best_k: -64.694320886845,get best_b:-61.38486740825478, and the loss is: 490.49782744420196\n",
      "When time is : 181, get best_k: -63.694320886845034,get best_b:-62.38486740825479, and the loss is: 485.21319305685034\n",
      "When time is : 191, get best_k: -62.69432088684502,get best_b:-63.384867408254806, and the loss is: 479.9285586694987\n",
      "When time is : 201, get best_k: -61.694320886845006,get best_b:-64.38486740825479, and the loss is: 474.6439242821468\n",
      "When time is : 211, get best_k: -60.69432088684499,get best_b:-65.38486740825473, and the loss is: 469.35928989479453\n",
      "When time is : 221, get best_k: -59.69432088684498,get best_b:-66.38486740825468, and the loss is: 464.0746555074432\n",
      "When time is : 231, get best_k: -58.69432088684496,get best_b:-67.38486740825462, and the loss is: 458.79002112009135\n",
      "When time is : 241, get best_k: -57.69432088684495,get best_b:-68.38486740825456, and the loss is: 453.5053867327389\n",
      "When time is : 251, get best_k: -56.694320886844935,get best_b:-69.38486740825451, and the loss is: 448.2207523453868\n",
      "When time is : 261, get best_k: -55.69432088684492,get best_b:-70.38486740825445, and the loss is: 442.9361179580346\n",
      "When time is : 271, get best_k: -54.694320886844906,get best_b:-71.3848674082544, and the loss is: 437.65148357068324\n",
      "When time is : 281, get best_k: -53.69432088684489,get best_b:-72.38486740825434, and the loss is: 432.36684918333134\n",
      "When time is : 291, get best_k: -52.69432088684488,get best_b:-73.38486740825428, and the loss is: 427.08221479597904\n",
      "When time is : 301, get best_k: -51.694320886844864,get best_b:-74.38486740825422, and the loss is: 421.79758040862737\n",
      "When time is : 311, get best_k: -50.69432088684485,get best_b:-75.38486740825417, and the loss is: 416.51294602127547\n",
      "When time is : 321, get best_k: -49.694320886844835,get best_b:-76.38486740825411, and the loss is: 411.228311633924\n",
      "When time is : 331, get best_k: -48.69432088684482,get best_b:-77.38486740825405, and the loss is: 405.94367724657195\n",
      "When time is : 341, get best_k: -47.69432088684481,get best_b:-78.384867408254, and the loss is: 400.6590428592201\n",
      "When time is : 351, get best_k: -46.69432088684479,get best_b:-79.38486740825394, and the loss is: 395.374408471868\n",
      "When time is : 361, get best_k: -45.69432088684478,get best_b:-80.38486740825388, and the loss is: 390.089774084516\n",
      "When time is : 371, get best_k: -44.694320886844764,get best_b:-81.38486740825383, and the loss is: 384.80513969716395\n",
      "When time is : 381, get best_k: -43.69432088684475,get best_b:-82.38486740825377, and the loss is: 379.52050530981205\n",
      "When time is : 391, get best_k: -42.694320886844736,get best_b:-83.38486740825371, and the loss is: 374.2358709224602\n",
      "When time is : 401, get best_k: -41.69432088684472,get best_b:-84.38486740825365, and the loss is: 368.9512365351083\n",
      "When time is : 411, get best_k: -40.69432088684471,get best_b:-85.3848674082536, and the loss is: 363.66660214775607\n",
      "When time is : 421, get best_k: -39.69432088684469,get best_b:-86.38486740825354, and the loss is: 358.3819677604042\n",
      "When time is : 431, get best_k: -38.69432088684468,get best_b:-87.38486740825348, and the loss is: 353.09733337305215\n",
      "When time is : 441, get best_k: -37.694320886844665,get best_b:-88.38486740825343, and the loss is: 347.8126989857006\n",
      "When time is : 451, get best_k: -36.69432088684465,get best_b:-89.38486740825337, and the loss is: 342.5280645983486\n",
      "When time is : 461, get best_k: -35.694320886844636,get best_b:-90.38486740825331, and the loss is: 337.24343021099656\n",
      "When time is : 471, get best_k: -34.69432088684462,get best_b:-91.38486740825326, and the loss is: 331.9587958236445\n",
      "When time is : 481, get best_k: -33.69432088684461,get best_b:-92.3848674082532, and the loss is: 326.67416143629293\n",
      "When time is : 491, get best_k: -32.694320886844594,get best_b:-93.38486740825314, and the loss is: 321.3895270489406\n",
      "When time is : 501, get best_k: -31.69432088684458,get best_b:-94.38486740825309, and the loss is: 316.10489266158896\n",
      "When time is : 511, get best_k: -30.694320886844565,get best_b:-95.38486740825303, and the loss is: 310.82025827423683\n",
      "When time is : 521, get best_k: -29.69432088684455,get best_b:-96.38486740825297, and the loss is: 305.5356238868851\n",
      "When time is : 531, get best_k: -28.694320886844537,get best_b:-97.38486740825292, and the loss is: 300.2509894995332\n",
      "When time is : 541, get best_k: -27.694320886844523,get best_b:-98.38486740825286, and the loss is: 294.9663551121812\n",
      "When time is : 551, get best_k: -26.69432088684451,get best_b:-99.3848674082528, and the loss is: 289.6817207248291\n",
      "When time is : 561, get best_k: -25.694320886844494,get best_b:-100.38486740825275, and the loss is: 284.39708633747745\n",
      "When time is : 571, get best_k: -24.69432088684448,get best_b:-101.38486740825269, and the loss is: 279.1124519501256\n",
      "When time is : 581, get best_k: -23.694320886844466,get best_b:-102.38486740825263, and the loss is: 273.8278175627735\n",
      "When time is : 591, get best_k: -22.69432088684445,get best_b:-103.38486740825257, and the loss is: 268.5431831754214\n",
      "When time is : 601, get best_k: -21.694320886844437,get best_b:-104.38486740825252, and the loss is: 263.2585487880698\n",
      "When time is : 611, get best_k: -20.694320886844423,get best_b:-105.38486740825246, and the loss is: 257.9739144007178\n",
      "When time is : 621, get best_k: -19.69432088684441,get best_b:-106.3848674082524, and the loss is: 252.68928001336573\n",
      "When time is : 631, get best_k: -18.694320886844395,get best_b:-107.38486740825235, and the loss is: 247.404645626014\n",
      "When time is : 641, get best_k: -17.69432088684438,get best_b:-108.38486740825229, and the loss is: 242.12001123866222\n",
      "When time is : 651, get best_k: -16.694320886844366,get best_b:-109.38486740825223, and the loss is: 236.83537685131012\n",
      "When time is : 661, get best_k: -15.694320886844359,get best_b:-110.38486740825218, and the loss is: 231.55074246395824\n",
      "When time is : 671, get best_k: -14.694320886844363,get best_b:-111.38486740825212, and the loss is: 226.26610807660646\n",
      "When time is : 681, get best_k: -13.694320886844366,get best_b:-112.38486740825206, and the loss is: 220.9814736892543\n",
      "When time is : 691, get best_k: -12.69432088684437,get best_b:-113.384867408252, and the loss is: 215.6968393019027\n",
      "When time is : 701, get best_k: -11.694320886844373,get best_b:-114.38486740825195, and the loss is: 210.41220491455087\n",
      "When time is : 711, get best_k: -10.694320886844377,get best_b:-115.38486740825189, and the loss is: 205.12757052719917\n",
      "When time is : 721, get best_k: -9.69432088684438,get best_b:-116.38486740825184, and the loss is: 199.84293613984727\n",
      "When time is : 731, get best_k: -8.694320886844384,get best_b:-117.38486740825178, and the loss is: 194.55830175249537\n"
     ]
    },
    {
     "name": "stdout",
     "output_type": "stream",
     "text": [
      "When time is : 741, get best_k: -7.6943208868443875,get best_b:-118.38486740825172, and the loss is: 189.27366736514372\n",
      "When time is : 751, get best_k: -6.694320886844391,get best_b:-119.38486740825167, and the loss is: 183.9890329777917\n",
      "When time is : 761, get best_k: -5.694320886844395,get best_b:-120.38486740825161, and the loss is: 178.70439859044018\n",
      "When time is : 771, get best_k: -4.694320886844398,get best_b:-121.38486740825155, and the loss is: 173.41976420308833\n",
      "When time is : 781, get best_k: -3.6943208868444,get best_b:-122.3848674082515, and the loss is: 168.13512981573632\n",
      "When time is : 791, get best_k: -2.694320886844399,get best_b:-123.38486740825144, and the loss is: 162.85049542838462\n",
      "When time is : 801, get best_k: -1.6943208868443982,get best_b:-124.38486740825138, and the loss is: 157.56586104103266\n",
      "When time is : 811, get best_k: -0.6943208868443977,get best_b:-125.38486740825132, and the loss is: 152.28122665368073\n",
      "When time is : 821, get best_k: 0.3056791131556022,get best_b:-126.38486740825127, and the loss is: 146.99659226632906\n",
      "When time is : 831, get best_k: 1.3056791131556025,get best_b:-127.38486740825121, and the loss is: 141.71195787897727\n",
      "When time is : 841, get best_k: 2.305679113155603,get best_b:-128.38486740825115, and the loss is: 136.4273234916254\n",
      "When time is : 851, get best_k: 3.305679113155604,get best_b:-129.3848674082511, and the loss is: 131.1426891042736\n",
      "When time is : 861, get best_k: 4.305679113155604,get best_b:-130.38486740825104, and the loss is: 125.85805471692166\n",
      "When time is : 871, get best_k: 5.3056791131556,get best_b:-131.38486740825098, and the loss is: 120.57342032956983\n",
      "When time is : 881, get best_k: 6.3056791131555965,get best_b:-132.38486740825093, and the loss is: 115.2887859422181\n",
      "When time is : 891, get best_k: 7.305679113155593,get best_b:-133.38486740825087, and the loss is: 110.00415155486624\n",
      "When time is : 901, get best_k: 8.30567911315559,get best_b:-134.3848674082508, and the loss is: 104.71951716751445\n",
      "When time is : 911, get best_k: 9.305679113155586,get best_b:-135.38486740825076, and the loss is: 99.43488278016261\n",
      "When time is : 921, get best_k: 10.305679113155582,get best_b:-136.3848674082507, and the loss is: 94.1502483928109\n",
      "When time is : 931, get best_k: 11.305679113155579,get best_b:-137.38486740825064, and the loss is: 88.86561400545895\n",
      "When time is : 941, get best_k: 12.305679113155575,get best_b:-138.38486740825059, and the loss is: 83.58097961810715\n",
      "When time is : 951, get best_k: 13.305679113155572,get best_b:-139.38486740825053, and the loss is: 78.29634523075532\n",
      "When time is : 961, get best_k: 14.305679113155568,get best_b:-140.38486740825047, and the loss is: 73.01171084340353\n",
      "When time is : 971, get best_k: 15.305679113155565,get best_b:-141.38486740825041, and the loss is: 67.72707645605178\n",
      "When time is : 981, get best_k: 16.305679113155566,get best_b:-142.38486740825036, and the loss is: 62.44244206869988\n",
      "When time is : 991, get best_k: 17.30567911315558,get best_b:-143.3848674082503, and the loss is: 57.15780768134798\n",
      "When time is : 1001, get best_k: 18.305679113155595,get best_b:-144.38486740825024, and the loss is: 51.873173293996054\n",
      "When time is : 1011, get best_k: 19.30567911315561,get best_b:-145.3848674082502, and the loss is: 46.597309638680734\n",
      "When time is : 1021, get best_k: 20.305679113155623,get best_b:-146.38486740825013, and the loss is: 41.34342623947111\n",
      "When time is : 1031, get best_k: 21.305679113155637,get best_b:-147.38486740825007, and the loss is: 36.089542840261444\n",
      "When time is : 1041, get best_k: 22.30567911315565,get best_b:-148.38486740825002, and the loss is: 30.835659441051806\n",
      "When time is : 1051, get best_k: 23.305679113155666,get best_b:-149.38486740824996, and the loss is: 25.690586622571555\n",
      "When time is : 1061, get best_k: 24.30567911315568,get best_b:-150.3848674082499, and the loss is: 20.815791764519407\n",
      "When time is : 1071, get best_k: 25.305679113155694,get best_b:-151.38486740824985, and the loss is: 16.338181329376066\n",
      "When time is : 1081, get best_k: 26.30567911315571,get best_b:-152.3848674082498, and the loss is: 12.87366017964886\n",
      "When time is : 1091, get best_k: 27.305679113155723,get best_b:-153.38486740824973, and the loss is: 10.982107032445203\n"
     ]
    }
   ],
   "source": [
    "\n",
    "trying_times = 20000\n",
    "\n",
    "min_loss = float('inf')\n",
    "\n",
    "best_k = random.random() * 200 - 100\n",
    "best_b = random.random() * 200 - 100\n",
    "\n",
    "direction = [\n",
    "    (+1,+1),  # first element: k's change direction, second element: b's change direction\n",
    "    (+1,-1),\n",
    "    (-1,+1),\n",
    "    (-1,-1)\n",
    "]\n",
    "\n",
    "next_direction = random.choice(direction)\n",
    "\n",
    "scalar = 0.1\n",
    "update_time=0\n",
    "\n",
    "for i in range(trying_times):\n",
    "    \n",
    "    k_direction ,b_direction= next_direction\n",
    "    \n",
    "    current_k, current_b = best_k + k_direction * scalar, best_b + b_direction * scalar\n",
    "    \n",
    "    price_by_k_and_b = [price(r, current_k,current_b) for r in X_rm]\n",
    "\n",
    "    current_loss = loss(y, price_by_k_and_b)\n",
    "    \n",
    "    if current_loss < min_loss: # performance became better\n",
    "        min_loss = current_loss\n",
    "        best_k,best_b = current_k,current_b\n",
    "        \n",
    "        next_direction = next_direction\n",
    "        update_time+=1\n",
    "        if update_time%10==0:\n",
    "            print('When time is : {}, get best_k: {},get best_b:{}, and the loss is: {}'.format(i, best_k, best_b,min_loss))\n",
    "    else:\n",
    "        next_direction = random.choice(direction)"
   ]
  },
  {
   "cell_type": "code",
   "execution_count": 76,
   "metadata": {},
   "outputs": [
    {
     "data": {
      "text/plain": [
       "<matplotlib.collections.PathCollection at 0x28c40b725c0>"
      ]
     },
     "execution_count": 76,
     "metadata": {},
     "output_type": "execute_result"
    },
    {
     "data": {
      "image/png": "[encoded data removed]",
      "text/plain": [
       "<Figure size 432x288 with 1 Axes>"
      ]
     },
     "metadata": {
      "needs_background": "light"
     },
     "output_type": "display_data"
    }
   ],
   "source": [
    "X_rm = X[:,5]\n",
    "k = 27.305679113155723\n",
    "b = -153.38486740824973\n",
    "price_by_random_k_and_b = [price(r, k, b) for r in X_rm]\n",
    "\n",
    "draw_rm_and_price()\n",
    "plt.scatter(X_rm, price_by_random_k_and_b)"
   ]
  },
  {
   "cell_type": "markdown",
   "metadata": {},
   "source": [
    "第三种 导数-梯度下降"
   ]
  },
  {
   "cell_type": "code",
   "execution_count": 88,
   "metadata": {},
   "outputs": [],
   "source": [
    "def partial_k(x,y,y_hat):\n",
    "    n=len(y)\n",
    "    gradient=0\n",
    "    for x_i,y_i,y_hat_i in zip(list(x),list(y),list(y_hat)):\n",
    "        gradient+=abs(x_i)\n",
    "    return 1/n*gradient\n",
    "\n",
    "\n",
    "def partial_b(x,y,y_hat):\n",
    "    n=len(y)\n",
    "    gradient=0\n",
    "    for y_i,y_hat_i in zip(list(y),list(y_hat)):\n",
    "        gradient+=1\n",
    "    return 1/n*gradient"
   ]
  },
  {
   "cell_type": "code",
   "execution_count": 89,
   "metadata": {},
   "outputs": [
    {
     "name": "stdout",
     "output_type": "stream",
     "text": [
      "When time is : 0, get best_k: 27.80567911315573 best_b: -153.68486740824972, and the loss is: 274.1707385233429\n",
      "When time is : 50, get best_k: 27.80567911315573 best_b: -153.68486740824972, and the loss is: 273.96825537642894\n",
      "When time is : 100, get best_k: 27.80567911315573 best_b: -153.68486740824972, and the loss is: 273.7657722295148\n",
      "When time is : 150, get best_k: 27.80567911315573 best_b: -153.68486740824972, and the loss is: 273.5632890826008\n",
      "When time is : 200, get best_k: 27.80567911315573 best_b: -153.68486740824972, and the loss is: 273.36080593568687\n",
      "When time is : 250, get best_k: 27.80567911315573 best_b: -153.68486740824972, and the loss is: 273.1583227887729\n",
      "When time is : 300, get best_k: 27.80567911315573 best_b: -153.68486740824972, and the loss is: 272.95583964185903\n",
      "When time is : 350, get best_k: 27.80567911315573 best_b: -153.68486740824972, and the loss is: 272.75335649494474\n",
      "When time is : 400, get best_k: 27.80567911315573 best_b: -153.68486740824972, and the loss is: 272.55087334803085\n",
      "When time is : 450, get best_k: 27.80567911315573 best_b: -153.68486740824972, and the loss is: 272.34839020111684\n",
      "When time is : 500, get best_k: 27.80567911315573 best_b: -153.68486740824972, and the loss is: 272.1459070542028\n",
      "When time is : 550, get best_k: 27.80567911315573 best_b: -153.68486740824972, and the loss is: 271.9434239072888\n",
      "When time is : 600, get best_k: 27.80567911315573 best_b: -153.68486740824972, and the loss is: 271.74094076037454\n",
      "When time is : 650, get best_k: 27.80567911315573 best_b: -153.68486740824972, and the loss is: 271.53845761346093\n",
      "When time is : 700, get best_k: 27.80567911315573 best_b: -153.68486740824972, and the loss is: 271.3359744665468\n",
      "When time is : 750, get best_k: 27.80567911315573 best_b: -153.68486740824972, and the loss is: 271.133491319633\n",
      "When time is : 800, get best_k: 27.80567911315573 best_b: -153.68486740824972, and the loss is: 270.93100817271886\n",
      "When time is : 850, get best_k: 27.80567911315573 best_b: -153.68486740824972, and the loss is: 270.7285250258048\n",
      "When time is : 900, get best_k: 27.80567911315573 best_b: -153.68486740824972, and the loss is: 270.52604187889114\n",
      "When time is : 950, get best_k: 27.80567911315573 best_b: -153.68486740824972, and the loss is: 270.32355873197696\n",
      "When time is : 1000, get best_k: 27.80567911315573 best_b: -153.68486740824972, and the loss is: 270.12107558506307\n",
      "When time is : 1050, get best_k: 27.80567911315573 best_b: -153.68486740824972, and the loss is: 269.918592438149\n",
      "When time is : 1100, get best_k: 27.80567911315573 best_b: -153.68486740824972, and the loss is: 269.71610929123517\n",
      "When time is : 1150, get best_k: 27.80567911315573 best_b: -153.68486740824972, and the loss is: 269.5136261443213\n",
      "When time is : 1200, get best_k: 27.80567911315573 best_b: -153.68486740824972, and the loss is: 269.3111429974069\n",
      "When time is : 1250, get best_k: 27.80567911315573 best_b: -153.68486740824972, and the loss is: 269.1086598504928\n",
      "When time is : 1300, get best_k: 27.80567911315573 best_b: -153.68486740824972, and the loss is: 268.9061767035792\n",
      "When time is : 1350, get best_k: 27.80567911315573 best_b: -153.68486740824972, and the loss is: 268.703693556665\n",
      "When time is : 1400, get best_k: 27.80567911315573 best_b: -153.68486740824972, and the loss is: 268.501210409751\n",
      "When time is : 1450, get best_k: 27.80567911315573 best_b: -153.68486740824972, and the loss is: 268.29872726283725\n",
      "When time is : 1500, get best_k: 27.80567911315573 best_b: -153.68486740824972, and the loss is: 268.0962441159231\n",
      "When time is : 1550, get best_k: 27.80567911315573 best_b: -153.68486740824972, and the loss is: 267.89376096900895\n",
      "When time is : 1600, get best_k: 27.80567911315573 best_b: -153.68486740824972, and the loss is: 267.6912778220954\n",
      "When time is : 1650, get best_k: 27.80567911315573 best_b: -153.68486740824972, and the loss is: 267.48879467518134\n",
      "When time is : 1700, get best_k: 27.80567911315573 best_b: -153.68486740824972, and the loss is: 267.28631152826733\n",
      "When time is : 1750, get best_k: 27.80567911315573 best_b: -153.68486740824972, and the loss is: 267.08382838135304\n",
      "When time is : 1800, get best_k: 27.80567911315573 best_b: -153.68486740824972, and the loss is: 266.8813452344391\n",
      "When time is : 1850, get best_k: 27.80567911315573 best_b: -153.68486740824972, and the loss is: 266.67886208752543\n",
      "When time is : 1900, get best_k: 27.80567911315573 best_b: -153.68486740824972, and the loss is: 266.47637894061126\n",
      "When time is : 1950, get best_k: 27.80567911315573 best_b: -153.68486740824972, and the loss is: 266.2738957936971\n"
     ]
    }
   ],
   "source": [
    "trying_times=2000\n",
    "X,y=data['data'],data['target']\n",
    "min_loss=float('inf')\n",
    "current_k=random.random()*200-100\n",
    "current_b=random.random()*200-100\n",
    "learning_rate=1e-04\n",
    "update_time=0\n",
    "for i in range(trying_times):\n",
    "    price_by_k_and_b=[price(r,current_k,current_b) for r in X_rm]\n",
    "    current_loss=loss(y,price_by_k_and_b)\n",
    "    if current_loss<min_loss:\n",
    "        min_loss=current_loss\n",
    "        if i%50==0:\n",
    "            print('When time is : {}, get best_k: {} best_b: {}, and the loss is: {}'.format(i, best_k, best_b, min_loss))\n",
    "    k_gradient=partial_k(X_rm,y,price_by_k_and_b)\n",
    "    b_gradient=partial_b(X_rm,y,price_by_k_and_b)\n",
    "    current_k=current_k+(-1*k_gradient)*learning_rate\n",
    "    current_b=current_b+(-1*b_gradient)*learning_rate"
   ]
  },
  {
   "cell_type": "code",
   "execution_count": null,
   "metadata": {},
   "outputs": [],
   "source": []
  },
  {
   "cell_type": "code",
   "execution_count": null,
   "metadata": {},
   "outputs": [],
   "source": []
  },
  {
   "cell_type": "code",
   "execution_count": null,
   "metadata": {},
   "outputs": [],
   "source": []
  }
 ],
 "metadata": {
  "kernelspec": {
   "display_name": "Python 3",
   "language": "python",
   "name": "python3"
  },
  "language_info": {
   "codemirror_mode": {
    "name": "ipython",
    "version": 3
   },
   "file_extension": ".py",
   "mimetype": "text/x-python",
   "name": "python",
   "nbconvert_exporter": "python",
   "pygments_lexer": "ipython3",
   "version": "3.7.0"
  }
 },
 "nbformat": 4,
 "nbformat_minor": 2
}
