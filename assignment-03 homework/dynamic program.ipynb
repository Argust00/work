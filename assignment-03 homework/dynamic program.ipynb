{
 "cells": [
  {
   "cell_type": "markdown",
   "metadata": {},
   "source": [
    "dynamic program"
   ]
  },
  {
   "cell_type": "code",
   "execution_count": 1,
   "metadata": {},
   "outputs": [],
   "source": [
    "original_price=[1,5,8,9,10,17,17,20,24,30,35]"
   ]
  },
  {
   "cell_type": "code",
   "execution_count": 2,
   "metadata": {},
   "outputs": [],
   "source": [
    "from collections import defaultdict"
   ]
  },
  {
   "cell_type": "code",
   "execution_count": 3,
   "metadata": {},
   "outputs": [],
   "source": [
    "price=defaultdict(int)"
   ]
  },
  {
   "cell_type": "code",
   "execution_count": 4,
   "metadata": {},
   "outputs": [],
   "source": [
    "for i,p in enumerate(original_price):\n",
    "    price[i+1]=p"
   ]
  },
  {
   "cell_type": "code",
   "execution_count": 5,
   "metadata": {},
   "outputs": [
    {
     "data": {
      "text/plain": [
       "defaultdict(int,\n",
       "            {1: 1,\n",
       "             2: 5,\n",
       "             3: 8,\n",
       "             4: 9,\n",
       "             5: 10,\n",
       "             6: 17,\n",
       "             7: 17,\n",
       "             8: 20,\n",
       "             9: 24,\n",
       "             10: 30,\n",
       "             11: 35})"
      ]
     },
     "execution_count": 5,
     "metadata": {},
     "output_type": "execute_result"
    }
   ],
   "source": [
    "price\n"
   ]
  },
  {
   "cell_type": "code",
   "execution_count": 6,
   "metadata": {},
   "outputs": [],
   "source": [
    "def r(n):\n",
    "    return max([price[n]]+[r(i)+r(n-i) for i in range(1,n)])"
   ]
  },
  {
   "cell_type": "code",
   "execution_count": 7,
   "metadata": {},
   "outputs": [],
   "source": [
    "from functools import wraps"
   ]
  },
  {
   "cell_type": "code",
   "execution_count": 8,
   "metadata": {},
   "outputs": [
    {
     "data": {
      "text/plain": [
       "36"
      ]
     },
     "execution_count": 8,
     "metadata": {},
     "output_type": "execute_result"
    }
   ],
   "source": [
    "r(12)"
   ]
  },
  {
   "cell_type": "code",
   "execution_count": 9,
   "metadata": {},
   "outputs": [],
   "source": [
    "def memo(f):\n",
    "    memo.already_computed={}\n",
    "    @wraps(f)\n",
    "    def _wrap(arg):\n",
    "        result=None\n",
    "        if arg in memo.already_computed:\n",
    "            result=memo.already_computed[arg]\n",
    "        else:\n",
    "            result=f(arg)\n",
    "            memo.already_computed[arg]=result\n",
    "        return result\n",
    "    return _wrap"
   ]
  },
  {
   "cell_type": "code",
   "execution_count": 10,
   "metadata": {},
   "outputs": [],
   "source": [
    "solution={}\n",
    "memo.already_computed={}"
   ]
  },
  {
   "cell_type": "code",
   "execution_count": 14,
   "metadata": {},
   "outputs": [],
   "source": [
    "@memo\n",
    "def r(n):\n",
    "    max_price,max_split=max(\n",
    "        [(price[n],0)]+[(r(i)+r(n-i),i) for i in range(1,n)] \n",
    "    )\n",
    "    solution[n]=(n-max_split,max_split)\n",
    "    return max_price"
   ]
  },
  {
   "cell_type": "code",
   "execution_count": 15,
   "metadata": {},
   "outputs": [
    {
     "data": {
      "text/plain": [
       "45"
      ]
     },
     "execution_count": 15,
     "metadata": {},
     "output_type": "execute_result"
    }
   ],
   "source": [
    "r(15)"
   ]
  },
  {
   "cell_type": "code",
   "execution_count": 16,
   "metadata": {},
   "outputs": [
    {
     "data": {
      "text/plain": [
       "{1: (1, 0),\n",
       " 2: (2, 0),\n",
       " 3: (3, 0),\n",
       " 4: (2, 2),\n",
       " 5: (2, 3),\n",
       " 6: (6, 0),\n",
       " 7: (1, 6),\n",
       " 8: (2, 6),\n",
       " 9: (3, 6),\n",
       " 10: (10, 0),\n",
       " 11: (11, 0),\n",
       " 12: (1, 11),\n",
       " 13: (2, 11),\n",
       " 14: (3, 11),\n",
       " 15: (2, 13)}"
      ]
     },
     "execution_count": 16,
     "metadata": {},
     "output_type": "execute_result"
    }
   ],
   "source": [
    "solution"
   ]
  },
  {
   "cell_type": "code",
   "execution_count": 22,
   "metadata": {},
   "outputs": [],
   "source": [
    "def parse_solution(n):\n",
    "    left_split,right_split=solution[n]\n",
    "    if right_split==0:\n",
    "        return [left_split]\n",
    "    return parse_solution(left_split)+parse_solution(right_split)"
   ]
  },
  {
   "cell_type": "code",
   "execution_count": 18,
   "metadata": {},
   "outputs": [
    {
     "data": {
      "text/plain": [
       "235"
      ]
     },
     "execution_count": 18,
     "metadata": {},
     "output_type": "execute_result"
    }
   ],
   "source": [
    "r(75)"
   ]
  },
  {
   "cell_type": "code",
   "execution_count": 23,
   "metadata": {},
   "outputs": [
    {
     "data": {
      "text/plain": [
       "[3, 6, 11, 11, 11, 11, 11, 11]"
      ]
     },
     "execution_count": 23,
     "metadata": {},
     "output_type": "execute_result"
    }
   ],
   "source": [
    "parse_soultion(75)"
   ]
  },
  {
   "cell_type": "markdown",
   "metadata": {},
   "source": [
    "1.Why do we need dynamic programming? What's the difference of dynamic programming and previous talked search problme?\n",
    "ans:为了完成寻优，找到最优解；时间更短\n",
    "2.Why do we still need dynamic programming? Why not we train a machine learning to fit a function which could get the  right answer based on inputs?\n",
    "ans:时间短，效果好；用机器学习模型太麻烦，不如动态规划用起来简单、高效\n",
    "3.Can you catch up at least 3 problems which could solved by Dynamic Programming?\n",
    "ans:最优效益；最短路径；最少花费\n",
    "4.Can you catch up at least 3 problems wich could sloved by Edit Distance?\n",
    "ans:文本相似度；文字修正\n",
    "5.Please summarize the three main features of Dynamic Programming, and make a concise explain for each feature.\n",
    "ans:最佳子问题；子问题重叠；问题存在边界\n",
    "6.What's the disadvantages of Dynamic Programming? (You may need search by yourself in Internet)\n",
    "ans:没有统一的模型；存在维数灾难；对于复杂问题，不同的处理方法得到的最优策略可能不同"
   ]
  },
  {
   "cell_type": "markdown",
   "metadata": {},
   "source": [
    "edit distance"
   ]
  },
  {
   "cell_type": "code",
   "execution_count": 7,
   "metadata": {},
   "outputs": [],
   "source": [
    "solution = {}"
   ]
  },
  {
   "cell_type": "code",
   "execution_count": 9,
   "metadata": {},
   "outputs": [],
   "source": [
    "from functools import lru_cache"
   ]
  },
  {
   "cell_type": "code",
   "execution_count": 10,
   "metadata": {},
   "outputs": [],
   "source": [
    "@lru_cache(maxsize=2**10)\n",
    "def edit_distance(string1, string2):\n",
    "    \n",
    "    if len(string1) == 0: return len(string2)\n",
    "    if len(string2) == 0: return len(string1)\n",
    "    \n",
    "    tail_s1 = string1[-1]\n",
    "    tail_s2 = string2[-1]\n",
    "    \n",
    "    candidates = [\n",
    "        (edit_distance(string1[:-1], string2) + 1, 'DEL {}'.format(tail_s1)),  # string 1 delete tail\n",
    "        (edit_distance(string1, string2[:-1]) + 1, 'ADD {}'.format(tail_s2)),  # string 1 add tail of string2\n",
    "    ]\n",
    "    \n",
    "    if tail_s1 == tail_s2:\n",
    "        both_forward = (edit_distance(string1[:-1], string2[:-1]) + 0, '')\n",
    "    else:\n",
    "        both_forward = (edit_distance(string1[:-1], string2[:-1]) + 1, 'SUB {} => {}'.format(tail_s1, tail_s2))\n",
    "\n",
    "    \n",
    "    candidates.append(both_forward)\n",
    "    \n",
    "    min_distance, operation = min(candidates, key=lambda x: x[0])\n",
    "    \n",
    "    solution[(string1, string2)] = operation \n",
    "   \n",
    "    return min_distance"
   ]
  },
  {
   "cell_type": "code",
   "execution_count": 11,
   "metadata": {
    "scrolled": true
   },
   "outputs": [
    {
     "data": {
      "text/plain": [
       "2"
      ]
     },
     "execution_count": 11,
     "metadata": {},
     "output_type": "execute_result"
    }
   ],
   "source": [
    "edit_distance('ABCDE', 'ABCCEF')"
   ]
  },
  {
   "cell_type": "code",
   "execution_count": 5,
   "metadata": {},
   "outputs": [
    {
     "data": {
      "text/plain": [
       "5"
      ]
     },
     "execution_count": 5,
     "metadata": {},
     "output_type": "execute_result"
    }
   ],
   "source": [
    "edit_distance('AVBSJ','YIBDISA')"
   ]
  },
  {
   "cell_type": "code",
   "execution_count": 6,
   "metadata": {},
   "outputs": [
    {
     "data": {
      "text/plain": [
       "{('A', 'A'): '',\n",
       " ('A', 'AB'): 'ADD B',\n",
       " ('A', 'ABC'): 'ADD C',\n",
       " ('A', 'ABCC'): 'ADD C',\n",
       " ('A', 'ABCCE'): 'ADD E',\n",
       " ('A', 'ABCCEF'): 'ADD F',\n",
       " ('AB', 'A'): 'DEL B',\n",
       " ('AB', 'AB'): '',\n",
       " ('AB', 'ABC'): 'ADD C',\n",
       " ('AB', 'ABCC'): 'ADD C',\n",
       " ('AB', 'ABCCE'): 'ADD E',\n",
       " ('AB', 'ABCCEF'): 'ADD F',\n",
       " ('ABC', 'A'): 'DEL C',\n",
       " ('ABC', 'AB'): 'DEL C',\n",
       " ('ABC', 'ABC'): '',\n",
       " ('ABC', 'ABCC'): 'ADD C',\n",
       " ('ABC', 'ABCCE'): 'ADD E',\n",
       " ('ABC', 'ABCCEF'): 'ADD F',\n",
       " ('ABCD', 'A'): 'DEL D',\n",
       " ('ABCD', 'AB'): 'DEL D',\n",
       " ('ABCD', 'ABC'): 'DEL D',\n",
       " ('ABCD', 'ABCC'): 'SUB D => C',\n",
       " ('ABCD', 'ABCCE'): 'ADD E',\n",
       " ('ABCD', 'ABCCEF'): 'ADD F',\n",
       " ('ABCDE', 'A'): 'DEL E',\n",
       " ('ABCDE', 'AB'): 'DEL E',\n",
       " ('ABCDE', 'ABC'): 'DEL E',\n",
       " ('ABCDE', 'ABCC'): 'DEL E',\n",
       " ('ABCDE', 'ABCCE'): '',\n",
       " ('ABCDE', 'ABCCEF'): 'ADD F',\n",
       " ('A', 'Y'): 'SUB A => Y',\n",
       " ('A', 'YI'): 'ADD I',\n",
       " ('A', 'YIB'): 'ADD B',\n",
       " ('A', 'YIBD'): 'ADD D',\n",
       " ('A', 'YIBDI'): 'ADD I',\n",
       " ('A', 'YIBDIS'): 'ADD S',\n",
       " ('A', 'YIBDISA'): '',\n",
       " ('AV', 'Y'): 'DEL V',\n",
       " ('AV', 'YI'): 'SUB V => I',\n",
       " ('AV', 'YIB'): 'ADD B',\n",
       " ('AV', 'YIBD'): 'ADD D',\n",
       " ('AV', 'YIBDI'): 'ADD I',\n",
       " ('AV', 'YIBDIS'): 'ADD S',\n",
       " ('AV', 'YIBDISA'): 'DEL V',\n",
       " ('AVB', 'Y'): 'DEL B',\n",
       " ('AVB', 'YI'): 'DEL B',\n",
       " ('AVB', 'YIB'): '',\n",
       " ('AVB', 'YIBD'): 'ADD D',\n",
       " ('AVB', 'YIBDI'): 'ADD I',\n",
       " ('AVB', 'YIBDIS'): 'ADD S',\n",
       " ('AVB', 'YIBDISA'): 'ADD A',\n",
       " ('AVBS', 'Y'): 'DEL S',\n",
       " ('AVBS', 'YI'): 'DEL S',\n",
       " ('AVBS', 'YIB'): 'DEL S',\n",
       " ('AVBS', 'YIBD'): 'SUB S => D',\n",
       " ('AVBS', 'YIBDI'): 'ADD I',\n",
       " ('AVBS', 'YIBDIS'): '',\n",
       " ('AVBS', 'YIBDISA'): 'ADD A',\n",
       " ('AVBSJ', 'Y'): 'DEL J',\n",
       " ('AVBSJ', 'YI'): 'DEL J',\n",
       " ('AVBSJ', 'YIB'): 'DEL J',\n",
       " ('AVBSJ', 'YIBD'): 'DEL J',\n",
       " ('AVBSJ', 'YIBDI'): 'SUB J => I',\n",
       " ('AVBSJ', 'YIBDIS'): 'DEL J',\n",
       " ('AVBSJ', 'YIBDISA'): 'SUB J => A'}"
      ]
     },
     "execution_count": 6,
     "metadata": {},
     "output_type": "execute_result"
    }
   ],
   "source": [
    "solution"
   ]
  },
  {
   "cell_type": "code",
   "execution_count": 24,
   "metadata": {},
   "outputs": [],
   "source": [
    "def stop_edit(string1,string2):\n",
    "    return string1==string2\n",
    "def parsed_solution(string1,string2,solution_1):\n",
    "    parse_solution=[]\n",
    "    edit_distance(string1,string2)\n",
    "    while not stop_edit(string1,string2):\n",
    "        operation=solution_1[(string1,string2)]\n",
    "        if 'SUB' in operation:\n",
    "            string1,string2=string1[:-1],string2[:-1]\n",
    "        elif operation =='':\n",
    "            string1,string2=string1[:-1],string2[:-1]\n",
    "        elif 'DEL' in operation:\n",
    "            string1,string2=string1[:-1],string2\n",
    "        elif 'ADD' in operation:\n",
    "            string1,string2=string1,string2[:-1]\n",
    "        \n",
    "        parse_solution.append(operation)\n",
    "    return parse_solution"
   ]
  },
  {
   "cell_type": "code",
   "execution_count": 26,
   "metadata": {},
   "outputs": [
    {
     "data": {
      "text/plain": [
       "['DEL h',\n",
       " 'SUB g => d',\n",
       " 'SUB f => t',\n",
       " 'SUB g => j',\n",
       " 'SUB f => y',\n",
       " '',\n",
       " 'ADD t',\n",
       " 'ADD v',\n",
       " 'SUB s => d']"
      ]
     },
     "execution_count": 26,
     "metadata": {},
     "output_type": "execute_result"
    }
   ],
   "source": [
    "parsed_solution('sdfgfgh','dvtdyjtd',solution)"
   ]
  },
  {
   "cell_type": "code",
   "execution_count": 27,
   "metadata": {},
   "outputs": [
    {
     "data": {
      "text/plain": [
       "{('A', 'A'): '',\n",
       " ('A', 'AB'): 'ADD B',\n",
       " ('A', 'ABC'): 'ADD C',\n",
       " ('A', 'ABCC'): 'ADD C',\n",
       " ('A', 'ABCCE'): 'ADD E',\n",
       " ('A', 'ABCCEF'): 'ADD F',\n",
       " ('AB', 'A'): 'DEL B',\n",
       " ('AB', 'AB'): '',\n",
       " ('AB', 'ABC'): 'ADD C',\n",
       " ('AB', 'ABCC'): 'ADD C',\n",
       " ('AB', 'ABCCE'): 'ADD E',\n",
       " ('AB', 'ABCCEF'): 'ADD F',\n",
       " ('ABC', 'A'): 'DEL C',\n",
       " ('ABC', 'AB'): 'DEL C',\n",
       " ('ABC', 'ABC'): '',\n",
       " ('ABC', 'ABCC'): 'ADD C',\n",
       " ('ABC', 'ABCCE'): 'ADD E',\n",
       " ('ABC', 'ABCCEF'): 'ADD F',\n",
       " ('ABCD', 'A'): 'DEL D',\n",
       " ('ABCD', 'AB'): 'DEL D',\n",
       " ('ABCD', 'ABC'): 'DEL D',\n",
       " ('ABCD', 'ABCC'): 'SUB D => C',\n",
       " ('ABCD', 'ABCCE'): 'ADD E',\n",
       " ('ABCD', 'ABCCEF'): 'ADD F',\n",
       " ('ABCDE', 'A'): 'DEL E',\n",
       " ('ABCDE', 'AB'): 'DEL E',\n",
       " ('ABCDE', 'ABC'): 'DEL E',\n",
       " ('ABCDE', 'ABCC'): 'DEL E',\n",
       " ('ABCDE', 'ABCCE'): '',\n",
       " ('ABCDE', 'ABCCEF'): 'ADD F',\n",
       " ('B', 'N'): 'SUB B => N',\n",
       " ('B', 'NA'): 'ADD A',\n",
       " ('B', 'NAN'): 'ADD N',\n",
       " ('B', 'NANJ'): 'ADD J',\n",
       " ('B', 'NANJI'): 'ADD I',\n",
       " ('B', 'NANJIN'): 'ADD N',\n",
       " ('B', 'NANJING'): 'ADD G',\n",
       " ('BE', 'N'): 'DEL E',\n",
       " ('BE', 'NA'): 'SUB E => A',\n",
       " ('BE', 'NAN'): 'ADD N',\n",
       " ('BE', 'NANJ'): 'ADD J',\n",
       " ('BE', 'NANJI'): 'ADD I',\n",
       " ('BE', 'NANJIN'): 'ADD N',\n",
       " ('BE', 'NANJING'): 'ADD G',\n",
       " ('BEI', 'N'): 'DEL I',\n",
       " ('BEI', 'NA'): 'DEL I',\n",
       " ('BEI', 'NAN'): 'SUB I => N',\n",
       " ('BEI', 'NANJ'): 'ADD J',\n",
       " ('BEI', 'NANJI'): '',\n",
       " ('BEI', 'NANJIN'): 'ADD N',\n",
       " ('BEI', 'NANJING'): 'ADD G',\n",
       " ('BEIJ', 'N'): 'DEL J',\n",
       " ('BEIJ', 'NA'): 'DEL J',\n",
       " ('BEIJ', 'NAN'): 'DEL J',\n",
       " ('BEIJ', 'NANJ'): '',\n",
       " ('BEIJ', 'NANJI'): 'ADD I',\n",
       " ('BEIJ', 'NANJIN'): 'ADD N',\n",
       " ('BEIJ', 'NANJING'): 'ADD G',\n",
       " ('BEIJI', 'N'): 'DEL I',\n",
       " ('BEIJI', 'NA'): 'DEL I',\n",
       " ('BEIJI', 'NAN'): 'DEL I',\n",
       " ('BEIJI', 'NANJ'): 'DEL I',\n",
       " ('BEIJI', 'NANJI'): '',\n",
       " ('BEIJI', 'NANJIN'): 'ADD N',\n",
       " ('BEIJI', 'NANJING'): 'ADD G',\n",
       " ('BEIJIN', 'N'): '',\n",
       " ('BEIJIN', 'NA'): 'DEL N',\n",
       " ('BEIJIN', 'NAN'): '',\n",
       " ('BEIJIN', 'NANJ'): 'DEL N',\n",
       " ('BEIJIN', 'NANJI'): 'DEL N',\n",
       " ('BEIJIN', 'NANJIN'): '',\n",
       " ('BEIJIN', 'NANJING'): 'ADD G',\n",
       " ('BEIJING', 'N'): 'DEL G',\n",
       " ('BEIJING', 'NA'): 'SUB G => A',\n",
       " ('BEIJING', 'NAN'): 'DEL G',\n",
       " ('BEIJING', 'NANJ'): 'DEL G',\n",
       " ('BEIJING', 'NANJI'): 'DEL G',\n",
       " ('BEIJING', 'NANJIN'): 'DEL G',\n",
       " ('BEIJING', 'NANJING'): '',\n",
       " ('BEIN', 'N'): '',\n",
       " ('BEIN', 'NA'): 'DEL N',\n",
       " ('BEIN', 'NAN'): '',\n",
       " ('BEIN', 'NANJ'): 'ADD J',\n",
       " ('BEIN', 'NANJI'): 'DEL N',\n",
       " ('BEIN', 'NANJIN'): '',\n",
       " ('BEIN', 'NANJING'): 'ADD G',\n",
       " ('BEING', 'N'): 'DEL G',\n",
       " ('BEING', 'NA'): 'SUB G => A',\n",
       " ('BEING', 'NAN'): 'DEL G',\n",
       " ('BEING', 'NANJ'): 'SUB G => J',\n",
       " ('BEING', 'NANJI'): 'ADD I',\n",
       " ('BEING', 'NANJIN'): 'DEL G',\n",
       " ('BEING', 'NANJING'): '',\n",
       " ('s', 'd'): 'SUB s => d',\n",
       " ('s', 'dv'): 'ADD v',\n",
       " ('s', 'dvt'): 'ADD t',\n",
       " ('s', 'dvtd'): 'ADD d',\n",
       " ('s', 'dvtdy'): 'ADD y',\n",
       " ('s', 'dvtdyj'): 'ADD j',\n",
       " ('s', 'dvtdyjt'): 'ADD t',\n",
       " ('s', 'dvtdyjtd'): 'ADD d',\n",
       " ('sd', 'd'): '',\n",
       " ('sd', 'dv'): 'ADD v',\n",
       " ('sd', 'dvt'): 'ADD t',\n",
       " ('sd', 'dvtd'): '',\n",
       " ('sd', 'dvtdy'): 'ADD y',\n",
       " ('sd', 'dvtdyj'): 'ADD j',\n",
       " ('sd', 'dvtdyjt'): 'ADD t',\n",
       " ('sd', 'dvtdyjtd'): 'ADD d',\n",
       " ('sdf', 'd'): 'DEL f',\n",
       " ('sdf', 'dv'): 'SUB f => v',\n",
       " ('sdf', 'dvt'): 'ADD t',\n",
       " ('sdf', 'dvtd'): 'DEL f',\n",
       " ('sdf', 'dvtdy'): 'SUB f => y',\n",
       " ('sdf', 'dvtdyj'): 'ADD j',\n",
       " ('sdf', 'dvtdyjt'): 'ADD t',\n",
       " ('sdf', 'dvtdyjtd'): 'ADD d',\n",
       " ('sdfg', 'd'): 'DEL g',\n",
       " ('sdfg', 'dv'): 'DEL g',\n",
       " ('sdfg', 'dvt'): 'SUB g => t',\n",
       " ('sdfg', 'dvtd'): 'ADD d',\n",
       " ('sdfg', 'dvtdy'): 'DEL g',\n",
       " ('sdfg', 'dvtdyj'): 'SUB g => j',\n",
       " ('sdfg', 'dvtdyjt'): 'ADD t',\n",
       " ('sdfg', 'dvtdyjtd'): 'ADD d',\n",
       " ('sdfgf', 'd'): 'DEL f',\n",
       " ('sdfgf', 'dv'): 'DEL f',\n",
       " ('sdfgf', 'dvt'): 'DEL f',\n",
       " ('sdfgf', 'dvtd'): 'SUB f => d',\n",
       " ('sdfgf', 'dvtdy'): 'ADD y',\n",
       " ('sdfgf', 'dvtdyj'): 'DEL f',\n",
       " ('sdfgf', 'dvtdyjt'): 'SUB f => t',\n",
       " ('sdfgf', 'dvtdyjtd'): 'ADD d',\n",
       " ('sdfgfg', 'd'): 'DEL g',\n",
       " ('sdfgfg', 'dv'): 'DEL g',\n",
       " ('sdfgfg', 'dvt'): 'DEL g',\n",
       " ('sdfgfg', 'dvtd'): 'DEL g',\n",
       " ('sdfgfg', 'dvtdy'): 'SUB g => y',\n",
       " ('sdfgfg', 'dvtdyj'): 'ADD j',\n",
       " ('sdfgfg', 'dvtdyjt'): 'DEL g',\n",
       " ('sdfgfg', 'dvtdyjtd'): 'SUB g => d',\n",
       " ('sdfgfgh', 'd'): 'DEL h',\n",
       " ('sdfgfgh', 'dv'): 'DEL h',\n",
       " ('sdfgfgh', 'dvt'): 'DEL h',\n",
       " ('sdfgfgh', 'dvtd'): 'DEL h',\n",
       " ('sdfgfgh', 'dvtdy'): 'DEL h',\n",
       " ('sdfgfgh', 'dvtdyj'): 'SUB h => j',\n",
       " ('sdfgfgh', 'dvtdyjt'): 'ADD t',\n",
       " ('sdfgfgh', 'dvtdyjtd'): 'DEL h'}"
      ]
     },
     "execution_count": 27,
     "metadata": {},
     "output_type": "execute_result"
    }
   ],
   "source": [
    "solution\n"
   ]
  }
 ],
 "metadata": {
  "kernelspec": {
   "display_name": "Python 3",
   "language": "python",
   "name": "python3"
  },
  "language_info": {
   "codemirror_mode": {
    "name": "ipython",
    "version": 3
   },
   "file_extension": ".py",
   "mimetype": "text/x-python",
   "name": "python",
   "nbconvert_exporter": "python",
   "pygments_lexer": "ipython3",
   "version": "3.7.0"
  }
 },
 "nbformat": 4,
 "nbformat_minor": 2
}
